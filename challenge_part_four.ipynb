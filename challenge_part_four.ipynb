{
  "nbformat": 4,
  "nbformat_minor": 0,
  "metadata": {
    "colab": {
      "provenance": [],
      "authorship_tag": "ABX9TyMHAdaM/oXM+wA7Qq58uCuV",
      "include_colab_link": true
    },
    "kernelspec": {
      "name": "python3",
      "display_name": "Python 3"
    },
    "language_info": {
      "name": "python"
    }
  },
  "cells": [
    {
      "cell_type": "markdown",
      "metadata": {
        "id": "view-in-github",
        "colab_type": "text"
      },
      "source": [
        "<a href=\"https://colab.research.google.com/github/MeenalJy/PyWarrior-Challenge/blob/main/challenge_part_four.ipynb\" target=\"_parent\"><img src=\"https://colab.research.google.com/assets/colab-badge.svg\" alt=\"Open In Colab\"/></a>"
      ]
    },
    {
      "cell_type": "markdown",
      "source": [
        "**Part-4: Maths**\n",
        "\n"
      ],
      "metadata": {
        "id": "_wGYaFeIi8oX"
      }
    },
    {
      "cell_type": "markdown",
      "source": [
        "27. Ask the user to enter a\n",
        "number with lots of\n",
        "decimal places. Multiply\n",
        "this number by two and\n",
        "display the answer."
      ],
      "metadata": {
        "id": "V5RdPteNjMtA"
      }
    },
    {
      "cell_type": "code",
      "source": [
        "num = float(input(\"Enter your number with lots of decimal places:  \"))\n",
        "\n",
        "solution = float((num) * 2)\n",
        "\n",
        "print(solution)\n"
      ],
      "metadata": {
        "colab": {
          "base_uri": "https://localhost:8080/"
        },
        "id": "5YFmftZgjOqS",
        "outputId": "bec08768-57a9-4d28-97d8-82d1110a21c1"
      },
      "execution_count": null,
      "outputs": [
        {
          "output_type": "stream",
          "name": "stdout",
          "text": [
            "Enter your number with lots of decimal places:  10.99999999888\n",
            "21.99999999776\n"
          ]
        }
      ]
    },
    {
      "cell_type": "markdown",
      "source": [
        "28. Update program 027 so that it will display the answer to\n",
        "two decimal places."
      ],
      "metadata": {
        "id": "95tfC3Isjy5x"
      }
    },
    {
      "cell_type": "code",
      "source": [
        "num = float(input(\"Enter your number with lots of decimal places: \"))\n",
        "\n",
        "mul = ((num)* 2)\n",
        "\n",
        "print(round(mul,2))"
      ],
      "metadata": {
        "id": "f6GZWU5bj2nY",
        "colab": {
          "base_uri": "https://localhost:8080/"
        },
        "outputId": "20a89a87-b8ac-457f-8d69-ba42848aa017"
      },
      "execution_count": null,
      "outputs": [
        {
          "output_type": "stream",
          "name": "stdout",
          "text": [
            "Enter your number with lots of decimal places: 10.2221\n",
            "20.44\n"
          ]
        }
      ]
    },
    {
      "cell_type": "markdown",
      "source": [
        "29. Ask the user to enter an integer that is over 500. Work\n",
        "out the square root of that number and display it to two\n",
        "decimal places."
      ],
      "metadata": {
        "id": "KaaKB5CdlY0O"
      }
    },
    {
      "cell_type": "code",
      "source": [
        "import math\n",
        "\n",
        "num = int(input(\"Enter an integer that is over 500: \"))\n",
        "\n",
        "solution = float(math.sqrt(num))\n",
        "\n",
        "print(round(solution,2))\n",
        "\n",
        "\n",
        "\n"
      ],
      "metadata": {
        "colab": {
          "base_uri": "https://localhost:8080/"
        },
        "id": "9YjjwlSvldgD",
        "outputId": "dd22be95-c835-461c-d20f-3ca5f39d9ee1"
      },
      "execution_count": null,
      "outputs": [
        {
          "output_type": "stream",
          "name": "stdout",
          "text": [
            "Enter an integer that is over 500: 1000\n",
            "31.62\n"
          ]
        }
      ]
    },
    {
      "cell_type": "markdown",
      "source": [
        "30. Display pi (π) to five\n",
        "decimal places."
      ],
      "metadata": {
        "id": "rwWb5P9bm4CP"
      }
    },
    {
      "cell_type": "code",
      "source": [
        "import math\n",
        "\n",
        "solution = float(math.pi)\n",
        "\n",
        "print(round(solution,5))\n"
      ],
      "metadata": {
        "colab": {
          "base_uri": "https://localhost:8080/"
        },
        "id": "WLChzMcsm7v_",
        "outputId": "c35bf59c-d436-4bb4-9013-cd6e0a81a688"
      },
      "execution_count": null,
      "outputs": [
        {
          "output_type": "stream",
          "name": "stdout",
          "text": [
            "3.14159\n"
          ]
        }
      ]
    },
    {
      "cell_type": "markdown",
      "source": [
        "31. Ask the user to enter the radius of a circle\n",
        "(measurement from the centre point to the edge). Work\n",
        "out the area of the circle (π*radius2)."
      ],
      "metadata": {
        "id": "Cr2XoFGcnOFU"
      }
    },
    {
      "cell_type": "code",
      "source": [
        "radius = float(input(\"Enter the radius of a circle: \"))\n",
        "\n",
        "square = ((radius)**2)\n",
        "\n",
        "pi_value = math.pi\n",
        "\n",
        "area = (square)*(pi_value)\n",
        "\n",
        "print(area)"
      ],
      "metadata": {
        "colab": {
          "base_uri": "https://localhost:8080/"
        },
        "id": "ExzdtyZAnSbj",
        "outputId": "bece35ad-41ca-480a-9a93-7b3793b5f62f"
      },
      "execution_count": null,
      "outputs": [
        {
          "output_type": "stream",
          "name": "stdout",
          "text": [
            "Enter the radius of a circle: 20\n",
            "1256.6370614359173\n"
          ]
        }
      ]
    },
    {
      "cell_type": "markdown",
      "source": [
        "32. Ask for the radius and the depth of a cylinder\n",
        "and work out the total volume (circle\n",
        "area*depth) rounded to three decimal\n",
        "places."
      ],
      "metadata": {
        "id": "MOGO_dxtoHtf"
      }
    },
    {
      "cell_type": "code",
      "source": [
        "import math\n",
        "\n",
        "radius = float(input(\"Enter the radius of the cylinder: \"))\n",
        "depth = float(input(\"Enter the depth of the cylinder: \"))\n",
        "\n",
        "square = ((radius)**2)\n",
        "pi_value = math.pi\n",
        "\n",
        "area = ((square)*(pi_value))\n",
        "\n",
        "volume = ((depth)*(area))\n",
        "\n",
        "print(round(volume,3))"
      ],
      "metadata": {
        "colab": {
          "base_uri": "https://localhost:8080/"
        },
        "id": "9tpHiJo5oLZZ",
        "outputId": "f29efdac-fe9b-4a55-c7e9-29e767d53c0a"
      },
      "execution_count": null,
      "outputs": [
        {
          "output_type": "stream",
          "name": "stdout",
          "text": [
            "Enter the radius of the cylinder: 20\n",
            "Enter the depth of the cylinder: 30\n",
            "37699.112\n"
          ]
        }
      ]
    },
    {
      "cell_type": "markdown",
      "source": [
        "33. Ask the user to enter two numbers.\n",
        "Use whole number division to divide\n",
        "the first number by the second and\n",
        "also work out the remainder and\n",
        "display the answer in a user-friendly\n",
        "way (e.g. if they enter 7 and 2 display\n",
        "“7 divided by 2 is 3 with 1\n",
        "remaining”)."
      ],
      "metadata": {
        "id": "zwhdfa0HpXlW"
      }
    },
    {
      "cell_type": "code",
      "source": [
        "import math\n",
        "num_1 = int(input(\"Enter the first number: \"))\n",
        "num_2 = int(input(\"Enter the second number: \"))\n",
        "\n",
        "div = num_1 // num_2\n",
        "rem = num_1 % num_2\n",
        "\n",
        "print(num_1,\"divided by\",(num_2),\"is\",(div),\"with\",(rem),\"remaining\")"
      ],
      "metadata": {
        "colab": {
          "base_uri": "https://localhost:8080/"
        },
        "id": "3xmjfzY-pavC",
        "outputId": "1e5969d3-6f35-433d-d0f4-48cc1b573bec"
      },
      "execution_count": null,
      "outputs": [
        {
          "output_type": "stream",
          "name": "stdout",
          "text": [
            "Enter the first number: 40\n",
            "Enter the second number: 2\n",
            "40 divided by 2 is 20 with 0 remaining\n"
          ]
        }
      ]
    },
    {
      "cell_type": "markdown",
      "source": [
        "34. Display the following message:\n",
        "1) Square\n",
        "2) Triangle\n",
        "Enter a number\n",
        "If the user enters 1, then it should ask them for\n",
        "the length of one of its sides and display the\n",
        "area. If they select 2, it should ask for the base\n",
        "and height of the triangle and display the area. If\n",
        "they type in anything else, it should give them a\n",
        "suitable error message"
      ],
      "metadata": {
        "id": "JnjUdwiw-3O6"
      }
    },
    {
      "cell_type": "code",
      "source": [
        "import math\n",
        "num = int(input(\"1)Square \\n2)Triangle \\nEnter the number: \"))\n",
        "\n",
        "if num ==1:\n",
        "  len = int(input(\"Enter the length of the square: \"))\n",
        "  area = ((len)**2)\n",
        "  print(\"The area of the square is \",(area))\n",
        "\n",
        "elif num ==2:\n",
        "  baset = int(input(\"Enter the base of the triangle: \"))\n",
        "  heightt = int(input(\"Enter the height of the square: \"))\n",
        "  area_1 = (baset)*(heightt)\n",
        "  area_2 = (area_1) // 2\n",
        "  print(\"The area of the triangle is\", (area_2))\n",
        "\n",
        "else:\n",
        "  print(\"Invalid Input\")"
      ],
      "metadata": {
        "id": "9NdmV6d_-_Fv",
        "colab": {
          "base_uri": "https://localhost:8080/"
        },
        "outputId": "49317903-6854-4bac-8a8f-4fc9ea54790f"
      },
      "execution_count": 9,
      "outputs": [
        {
          "output_type": "stream",
          "name": "stdout",
          "text": [
            "1)Square \n",
            "2)Triangle \n",
            "Enter the number: 4\n",
            "Invalid Input\n"
          ]
        }
      ]
    }
  ]
}
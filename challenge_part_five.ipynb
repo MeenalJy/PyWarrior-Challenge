{
  "nbformat": 4,
  "nbformat_minor": 0,
  "metadata": {
    "colab": {
      "provenance": [],
      "authorship_tag": "ABX9TyOmxT+6VLxYKmdKaotW8zP3",
      "include_colab_link": true
    },
    "kernelspec": {
      "name": "python3",
      "display_name": "Python 3"
    },
    "language_info": {
      "name": "python"
    }
  },
  "cells": [
    {
      "cell_type": "markdown",
      "metadata": {
        "id": "view-in-github",
        "colab_type": "text"
      },
      "source": [
        "<a href=\"https://colab.research.google.com/github/MeenalJy/PyWarrior-Challenge/blob/main/challenge_part_five.ipynb\" target=\"_parent\"><img src=\"https://colab.research.google.com/assets/colab-badge.svg\" alt=\"Open In Colab\"/></a>"
      ]
    },
    {
      "cell_type": "markdown",
      "source": [
        "**Part-5: For Loop**"
      ],
      "metadata": {
        "id": "3DLUlFIrl0GL"
      }
    },
    {
      "cell_type": "markdown",
      "source": [
        "35. Ask the user to enter\n",
        "their name and then\n",
        "display their name\n",
        "three times."
      ],
      "metadata": {
        "id": "Adfry_fNl6WT"
      }
    },
    {
      "cell_type": "code",
      "source": [
        "name_game = str(input(\"Enter your name: \"))\n",
        "\n",
        "for i in range(1,4):\n",
        "  print(name_game)"
      ],
      "metadata": {
        "colab": {
          "base_uri": "https://localhost:8080/"
        },
        "id": "lYK3jwu1mBOa",
        "outputId": "7763f484-cd28-4090-ac72-a722e47a3f4d"
      },
      "execution_count": null,
      "outputs": [
        {
          "output_type": "stream",
          "name": "stdout",
          "text": [
            "Enter your name: Kirari Monobami\n",
            "Kirari Monobami\n",
            "Kirari Monobami\n",
            "Kirari Monobami\n"
          ]
        }
      ]
    },
    {
      "cell_type": "markdown",
      "source": [
        "36. Alter program 035 so that it will ask the user to enter their\n",
        "name and a number and then display their name that\n",
        "number of times."
      ],
      "metadata": {
        "id": "dwoChq2omqpy"
      }
    },
    {
      "cell_type": "code",
      "source": [
        "name_game = str(input(\"Enter your name: \"))\n",
        "num_game = int(input(\"Enter a number: \"))\n",
        "num = (num_game)+1\n",
        "for i in range(1,(num)):\n",
        "  print(name_game)"
      ],
      "metadata": {
        "colab": {
          "base_uri": "https://localhost:8080/"
        },
        "id": "GFKIKcExmvyT",
        "outputId": "1aa6b112-b491-41b5-e79d-c23650ea3361"
      },
      "execution_count": null,
      "outputs": [
        {
          "output_type": "stream",
          "name": "stdout",
          "text": [
            "Enter your name: Deva\n",
            "Enter a number: 3\n",
            "Deva\n",
            "Deva\n",
            "Deva\n"
          ]
        }
      ]
    },
    {
      "cell_type": "markdown",
      "source": [
        "37. Ask the user to enter their name and display each letter in\n",
        "their name on a separate line."
      ],
      "metadata": {
        "id": "jgPIEevfnn3Z"
      }
    },
    {
      "cell_type": "code",
      "source": [
        "name_game = str(input(\"Enter your name: \"))\n",
        "for i in (name_game):\n",
        "  print(i)"
      ],
      "metadata": {
        "colab": {
          "base_uri": "https://localhost:8080/"
        },
        "id": "g-zvjac4nq7Y",
        "outputId": "cd6843ed-f6fe-49fd-ee9c-9b9d916bae4b"
      },
      "execution_count": null,
      "outputs": [
        {
          "output_type": "stream",
          "name": "stdout",
          "text": [
            "Enter your name: Midari\n",
            "M\n",
            "i\n",
            "d\n",
            "a\n",
            "r\n",
            "i\n"
          ]
        }
      ]
    },
    {
      "cell_type": "markdown",
      "source": [
        "38. Change program\n",
        "037 to also ask for a\n",
        "number. Display\n",
        "their name (one\n",
        "letter at a time on\n",
        "each line) and\n",
        "repeat this for the\n",
        "number of times\n",
        "they entered."
      ],
      "metadata": {
        "id": "WIBqoxf3oL3o"
      }
    },
    {
      "cell_type": "code",
      "source": [
        "name_game = str(input(\"Enter your name: \"))\n",
        "num_game = int(input(\"enter your number: \"))\n",
        "num = (num_game)+1\n",
        "\n",
        "for i in range(1,(num)):\n",
        "  for i in (name_game):\n",
        "    print(i)"
      ],
      "metadata": {
        "colab": {
          "base_uri": "https://localhost:8080/"
        },
        "id": "d6-RWCsWoPwo",
        "outputId": "a2eaf569-4a05-4658-dc43-70f445cfaa43"
      },
      "execution_count": null,
      "outputs": [
        {
          "output_type": "stream",
          "name": "stdout",
          "text": [
            "Enter your name: Bloom\n",
            "enter your number: 4\n",
            "B\n",
            "l\n",
            "o\n",
            "o\n",
            "m\n",
            "B\n",
            "l\n",
            "o\n",
            "o\n",
            "m\n",
            "B\n",
            "l\n",
            "o\n",
            "o\n",
            "m\n",
            "B\n",
            "l\n",
            "o\n",
            "o\n",
            "m\n"
          ]
        }
      ]
    },
    {
      "cell_type": "markdown",
      "source": [
        "39. Ask the user to enter a number between 1\n",
        "and 12 and then display the times table for\n",
        "that number."
      ],
      "metadata": {
        "id": "4OSVcFDSqj-u"
      }
    },
    {
      "cell_type": "code",
      "source": [
        "import math\n",
        "\n",
        "num_game = int(input(\"Enter a number between 1 and 12: \"))\n",
        "num = (num_game)+1\n",
        "for count in range(1,(num)):\n",
        "  game = count * (num_game)\n",
        "  print(game)"
      ],
      "metadata": {
        "colab": {
          "base_uri": "https://localhost:8080/"
        },
        "id": "BXsUeicRqowm",
        "outputId": "8efa2c5e-9689-4c8a-e319-2a45bb1ddff8"
      },
      "execution_count": null,
      "outputs": [
        {
          "output_type": "stream",
          "name": "stdout",
          "text": [
            "Enter a number between 1 and 12: 2\n",
            "2\n",
            "4\n"
          ]
        }
      ]
    },
    {
      "cell_type": "markdown",
      "source": [
        "40. Ask for a number below 50 and then count down from\n",
        "50 to that number, making sure you show the number\n",
        "they entered in the output."
      ],
      "metadata": {
        "id": "dE8BLitUtcdN"
      }
    },
    {
      "cell_type": "code",
      "source": [
        "import math\n",
        "num_game = int(input(\"Enter a number below 50: \"))\n",
        "num = (num_game) - 1\n",
        "\n",
        "for i in range(50,(num),-1):\n",
        "  print(i)"
      ],
      "metadata": {
        "colab": {
          "base_uri": "https://localhost:8080/"
        },
        "id": "SM706TVYtsxS",
        "outputId": "87fa9715-3cf4-4767-f461-7fb9945eb0c3"
      },
      "execution_count": null,
      "outputs": [
        {
          "output_type": "stream",
          "name": "stdout",
          "text": [
            "Enter a number below 50: 40\n",
            "50\n",
            "49\n",
            "48\n",
            "47\n",
            "46\n",
            "45\n",
            "44\n",
            "43\n",
            "42\n",
            "41\n",
            "40\n"
          ]
        }
      ]
    },
    {
      "cell_type": "markdown",
      "source": [
        "41. Ask the user to enter their\n",
        "name and a number. If the\n",
        "number is less than 10, then\n",
        "display their name that\n",
        "number of times; otherwise\n",
        "display the message “Too\n",
        "high” three times."
      ],
      "metadata": {
        "id": "OmUPD_V81KWM"
      }
    },
    {
      "cell_type": "code",
      "source": [
        "import math\n",
        "\n",
        "name_game = str(input(\"Enter your name: \"))\n",
        "num_game = int(input(\"Enter a number: \"))\n",
        "num = (num_game) + 1\n",
        "if num_game <=10:\n",
        "  for i in range(1,(num)):\n",
        "    print(name_game)\n",
        "\n",
        "else:\n",
        "  print(\"Too high\")"
      ],
      "metadata": {
        "colab": {
          "base_uri": "https://localhost:8080/"
        },
        "id": "65p_d_fo1RK7",
        "outputId": "24ac4773-3c50-4013-f21e-c061d81de51e"
      },
      "execution_count": null,
      "outputs": [
        {
          "output_type": "stream",
          "name": "stdout",
          "text": [
            "Enter your name: mojo\n",
            "Enter a number: 5\n",
            "mojo\n",
            "mojo\n",
            "mojo\n",
            "mojo\n",
            "mojo\n"
          ]
        }
      ]
    },
    {
      "cell_type": "markdown",
      "source": [
        "42. Set a variable called total to 0. Ask the user to enter\n",
        "five numbers and after each input ask them if they\n",
        "want that number included. If they do, then add the\n",
        "number to the total. If they do not want it included,\n",
        "don’t add it to the total. After they have entered all five\n",
        "numbers, display the total."
      ],
      "metadata": {
        "id": "GR0YOz4X2S5j"
      }
    },
    {
      "cell_type": "code",
      "source": [
        "import math\n",
        "\n",
        "total = 0\n",
        "\n",
        "for i in range(1,6):\n",
        "  num = int(input(\"Enter your number: \"))\n",
        "  ask = str(input(\"Do you want to include it? y/n: \"))\n",
        "  if ask == \"y\":\n",
        "    total = (num) + (total)\n",
        "print(total)\n",
        ""
      ],
      "metadata": {
        "colab": {
          "base_uri": "https://localhost:8080/"
        },
        "id": "hGtUl9vJ2Ya_",
        "outputId": "14bbce34-5234-4b70-d021-0e6b27cc0644"
      },
      "execution_count": 67,
      "outputs": [
        {
          "output_type": "stream",
          "name": "stdout",
          "text": [
            "Enter your number: 2\n",
            "Do you want to include it? y/n: y\n",
            "Enter your number: 3\n",
            "Do you want to include it? y/n: y\n",
            "Enter your number: 4\n",
            "Do you want to include it? y/n: y\n",
            "Enter your number: 5\n",
            "Do you want to include it? y/n: y\n",
            "Enter your number: 6\n",
            "Do you want to include it? y/n: y\n",
            "20\n"
          ]
        }
      ]
    },
    {
      "cell_type": "markdown",
      "source": [
        "43. Ask which direction the user wants to count (up or down). If they select up, then ask\n",
        "them for the top number and then count from 1 to that number. If they select down, ask\n",
        "them to enter a number below 20 and then count down from 20 to that number. If they\n",
        "entered something other than up or down, display the message “I don’t understand”."
      ],
      "metadata": {
        "id": "ZiFgoF95I5Lh"
      }
    },
    {
      "cell_type": "code",
      "source": [
        "dir_game = str(input(\"Want to count up or down? \"))\n",
        "\n",
        "if dir_game ==\"up\":\n",
        "  num_game = int(input(\"Enter a top number: \"))\n",
        "  num = (num_game) + 1\n",
        "  for i in range(1, (num)):\n",
        "    print(i)\n",
        "elif dir_game ==\"down\":\n",
        "  num_game = int(input(\"Enter a number below 20: \"))\n",
        "  num = (num_game) - 1\n",
        "  for i in range(20,(num),-1):\n",
        "    print(i)\n",
        "else:\n",
        "  print(\"I don't understand it!\")"
      ],
      "metadata": {
        "colab": {
          "base_uri": "https://localhost:8080/"
        },
        "id": "2lxokG0BJAWo",
        "outputId": "ebc48ed5-16e5-4273-d40a-a4a977a87439"
      },
      "execution_count": 73,
      "outputs": [
        {
          "output_type": "stream",
          "name": "stdout",
          "text": [
            "Want to count up or down? up\n",
            "Enter a top number: 23\n",
            "1\n",
            "2\n",
            "3\n",
            "4\n",
            "5\n",
            "6\n",
            "7\n",
            "8\n",
            "9\n",
            "10\n",
            "11\n",
            "12\n",
            "13\n",
            "14\n",
            "15\n",
            "16\n",
            "17\n",
            "18\n",
            "19\n",
            "20\n",
            "21\n",
            "22\n",
            "23\n"
          ]
        }
      ]
    },
    {
      "cell_type": "markdown",
      "source": [
        "44. Ask how many people the user wants to invite to a party. If they enter a number below\n",
        "10, ask for the names and after each name display “[name] has been invited”. If they\n",
        "enter a number which is 10 or higher, display the message “Too many people”."
      ],
      "metadata": {
        "id": "ijB1KENOLyBX"
      }
    },
    {
      "cell_type": "code",
      "source": [
        "num_game = int(input(\"How many number of people you want to invite? \"))\n",
        "num = (num_game) + 1\n",
        "if num_game <=10:\n",
        "  for i in range(1,(num)):\n",
        "    name = str(input(\"Enter the name of the person: \"))\n",
        "    print((name),\"has been invited\")\n",
        "else:\n",
        "  print(\"Too many people\")"
      ],
      "metadata": {
        "colab": {
          "base_uri": "https://localhost:8080/"
        },
        "id": "gi8C2cQbL2f1",
        "outputId": "f7454722-e6f3-4789-d8f9-0ad64d9a8db9"
      },
      "execution_count": 76,
      "outputs": [
        {
          "output_type": "stream",
          "name": "stdout",
          "text": [
            "How many number of people you want to invite? 5\n",
            "Enter the name of the person: tom\n",
            "tom has been invited\n",
            "Enter the name of the person: som\n",
            "som has been invited\n",
            "Enter the name of the person: rom\n",
            "rom has been invited\n",
            "Enter the name of the person: kom\n",
            "kom has been invited\n",
            "Enter the name of the person: lom\n",
            "lom has been invited\n"
          ]
        }
      ]
    }
  ]
}
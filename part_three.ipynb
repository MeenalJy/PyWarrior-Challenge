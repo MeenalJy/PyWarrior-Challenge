{
  "nbformat": 4,
  "nbformat_minor": 0,
  "metadata": {
    "colab": {
      "provenance": [],
      "authorship_tag": "ABX9TyO0xmePamfiJYZ4YsmTmgyf",
      "include_colab_link": true
    },
    "kernelspec": {
      "name": "python3",
      "display_name": "Python 3"
    },
    "language_info": {
      "name": "python"
    }
  },
  "cells": [
    {
      "cell_type": "markdown",
      "metadata": {
        "id": "view-in-github",
        "colab_type": "text"
      },
      "source": [
        "<a href=\"https://colab.research.google.com/github/MeenalJy/PyWarrior-Challenge/blob/main/part_three.ipynb\" target=\"_parent\"><img src=\"https://colab.research.google.com/assets/colab-badge.svg\" alt=\"Open In Colab\"/></a>"
      ]
    },
    {
      "cell_type": "markdown",
      "source": [
        "20. Ask the user to enter\n",
        "their first name and\n",
        "then display the\n",
        "length of their name."
      ],
      "metadata": {
        "id": "mQer_WKQyRvQ"
      }
    },
    {
      "cell_type": "code",
      "source": [
        "name = str(input(\"Enter your name: \"))\n",
        "\n",
        "name_length = len(name)\n",
        "\n",
        "print(name_length)"
      ],
      "metadata": {
        "colab": {
          "base_uri": "https://localhost:8080/"
        },
        "id": "jrol-7PyyXou",
        "outputId": "55ac66f9-3f27-42a1-c7d9-13130ff0d7b3"
      },
      "execution_count": 3,
      "outputs": [
        {
          "output_type": "stream",
          "name": "stdout",
          "text": [
            "Enter your name: Jayant\n",
            "6\n"
          ]
        }
      ]
    },
    {
      "cell_type": "markdown",
      "source": [
        "21. Ask the user to enter their first name and then ask them to\n",
        "enter their surname. Join them together with a space between\n",
        "and display the name and the length of whole name."
      ],
      "metadata": {
        "id": "IQj4rk7Wy02m"
      }
    },
    {
      "cell_type": "code",
      "source": [
        "firstname = str(input(\"Enter your first name: \"))\n",
        "\n",
        "surname = str(input(\"Enter your surname: \"))\n",
        "\n",
        "fullname = firstname + \" \" + surname\n",
        "\n",
        "print(fullname)\n",
        "\n",
        "fulllength = len(fullname)\n",
        "\n",
        "print(fulllength)"
      ],
      "metadata": {
        "colab": {
          "base_uri": "https://localhost:8080/"
        },
        "id": "cfdc4MeVy4mF",
        "outputId": "23c99bf6-5e8f-4c5b-e1de-54c9b6905520"
      },
      "execution_count": 13,
      "outputs": [
        {
          "output_type": "stream",
          "name": "stdout",
          "text": [
            "Enter your first name: meera\n",
            "Enter your surname: vaidiki\n",
            "meera vaidiki\n",
            "13\n"
          ]
        }
      ]
    },
    {
      "cell_type": "markdown",
      "source": [
        "22. Ask the user to enter their first name and surname in lower\n",
        "case. Change the case to title case and join them together.\n",
        "Display the finished result."
      ],
      "metadata": {
        "id": "qbtmKlH0z34t"
      }
    },
    {
      "cell_type": "code",
      "source": [
        "firstname = str(input(\"Enter your first name: \"))\n",
        "\n",
        "surname = str(input(\"Enter your surname: \"))\n",
        "\n",
        "new_firstname = firstname.title()\n",
        "new_surname = surname.title()\n",
        "\n",
        "fullname = new_firstname+new_surname\n",
        "print(fullname)"
      ],
      "metadata": {
        "colab": {
          "base_uri": "https://localhost:8080/"
        },
        "id": "QA3Q2Y9mz5tD",
        "outputId": "b7a8c139-d2b4-455f-e670-c2d40747fd25"
      },
      "execution_count": 16,
      "outputs": [
        {
          "output_type": "stream",
          "name": "stdout",
          "text": [
            "Enter your first name: robin\n",
            "Enter your surname: hOOd\n",
            "RobinHood\n"
          ]
        }
      ]
    },
    {
      "cell_type": "markdown",
      "source": [
        "23. Ask the user to type in the first\n",
        "line of a nursery rhyme and\n",
        "display the length of the string.\n",
        "Ask for a starting number and an\n",
        "ending number and then display\n",
        "just that section of the text\n",
        "(remember Python starts\n",
        "counting from 0 and not 1)."
      ],
      "metadata": {
        "id": "NSJ2sDN-3wuK"
      }
    },
    {
      "cell_type": "code",
      "source": [
        "rhyme = str(input(\"Enter your favourite one line of nursery rhyme: \"))\n",
        "length_rhyme = len(rhyme)\n",
        "print(length_rhyme)\n",
        "\n",
        "start_num = int(input(\"Enter a starting number: \"))\n",
        "\n",
        "end_num = int(input(\"Enter an ending number:  \"))\n",
        "\n",
        "print((rhyme) [(start_num) : (end_num)])"
      ],
      "metadata": {
        "colab": {
          "base_uri": "https://localhost:8080/"
        },
        "id": "qLHISYFI30_q",
        "outputId": "393c34a8-9549-496e-f38e-f107e7726fa6"
      },
      "execution_count": 21,
      "outputs": [
        {
          "output_type": "stream",
          "name": "stdout",
          "text": [
            "Enter your favourite one line of nursery rhyme: johny johny yes papa\n",
            "20\n",
            "Enter a starting number: 10\n",
            "Enter an ending number:  20\n",
            "y yes papa\n"
          ]
        }
      ]
    },
    {
      "cell_type": "markdown",
      "source": [
        "24. Ask the user to type in any word and display it in\n",
        "upper case."
      ],
      "metadata": {
        "id": "ZqJDNvZu6kuE"
      }
    },
    {
      "cell_type": "code",
      "source": [
        "game = str(input(\"Enter any word: \"))\n",
        "\n",
        "new_game = game.upper()\n",
        "\n",
        "print(new_game)"
      ],
      "metadata": {
        "colab": {
          "base_uri": "https://localhost:8080/"
        },
        "id": "3hGhyYBJ6sE6",
        "outputId": "9289d995-3a4e-4962-c3ce-fc1af5c72bbd"
      },
      "execution_count": 23,
      "outputs": [
        {
          "output_type": "stream",
          "name": "stdout",
          "text": [
            "Enter any word: Bigbasket\n",
            "BIGBASKET\n"
          ]
        }
      ]
    },
    {
      "cell_type": "markdown",
      "source": [
        "25. Ask the user to enter their first name. If the length\n",
        "of their first name is under five characters, ask\n",
        "them to enter their surname and join them\n",
        "together (without a space) and display the name\n",
        "in upper case. If the length of the first name is five\n",
        "or more characters, display their first name in\n",
        "lower case."
      ],
      "metadata": {
        "id": "nzPlDLlh7Dk6"
      }
    },
    {
      "cell_type": "code",
      "source": [
        "name_game = str(input(\"Enter your name: \"))\n",
        "\n",
        "length_name = len(name_game)\n",
        "\n",
        "if length_name < 5:\n",
        "  surname_game = str(input(\"Enter your surname: \"))\n",
        "  fullname_game = name_game+surname_game\n",
        "  new_fullname = fullname_game.upper()\n",
        "  print(new_fullname)\n",
        "\n",
        "else:\n",
        "  low_name = name_game.lower()\n",
        "  print(low_name)"
      ],
      "metadata": {
        "colab": {
          "base_uri": "https://localhost:8080/"
        },
        "id": "tab-My3m7ICp",
        "outputId": "165d8670-ec16-499f-ee28-1e1017d65efd"
      },
      "execution_count": 28,
      "outputs": [
        {
          "output_type": "stream",
          "name": "stdout",
          "text": [
            "Enter your name: jojo\n",
            "Enter your surname: mojo\n",
            "JOJOMOJO\n"
          ]
        }
      ]
    },
    {
      "cell_type": "markdown",
      "source": [
        "26. Pig Latin takes the first consonant of a word,\n",
        "moves it to the end of the word and adds on an\n",
        "“ay”. If a word begins with a vowel you just add\n",
        "“way” to the end. For example, pig becomes igpay,\n",
        "banana becomes ananabay, and aadvark becomes\n",
        "aadvarkway. Create a program that will ask the\n",
        "user to enter a word and change it into Pig Latin.\n",
        "Make sure the new word is displayed in lower case."
      ],
      "metadata": {
        "id": "WjAU8fOG8nKv"
      }
    },
    {
      "cell_type": "code",
      "source": [
        "game = str(input(\"Enter any word: \"))\n",
        "word_game = game.lower()\n",
        "length_name = len(word_game)\n",
        "first_letter = word_game[0]\n",
        "\n",
        "if first_letter != \"a\" and first_letter != \"e\" and first_letter != \"u\" and first_letter != \"i\" and first_letter != \"o\":\n",
        "  last_word = \"ay\"\n",
        "  new_word_game = (word_game[1: length_name]) + first_letter + last_word\n",
        "  print(new_word_game)\n",
        "else:\n",
        "  last_word = \"way\"\n",
        "  new_word_game = word_game + last_word\n",
        "  print(new_word_game)"
      ],
      "metadata": {
        "colab": {
          "base_uri": "https://localhost:8080/"
        },
        "id": "7UGSRiVX8uL8",
        "outputId": "f3895d59-0a5b-4417-e1f1-be08035acb76"
      },
      "execution_count": 40,
      "outputs": [
        {
          "output_type": "stream",
          "name": "stdout",
          "text": [
            "Enter any word: aadvark\n",
            "aadvarkway\n"
          ]
        }
      ]
    }
  ]
}
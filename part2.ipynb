{
  "nbformat": 4,
  "nbformat_minor": 0,
  "metadata": {
    "colab": {
      "provenance": [],
      "authorship_tag": "ABX9TyON8IGe3cgx9nmcHgu9iuNT",
      "include_colab_link": true
    },
    "kernelspec": {
      "name": "python3",
      "display_name": "Python 3"
    },
    "language_info": {
      "name": "python"
    }
  },
  "cells": [
    {
      "cell_type": "markdown",
      "metadata": {
        "id": "view-in-github",
        "colab_type": "text"
      },
      "source": [
        "<a href=\"https://colab.research.google.com/github/MeenalJy/PyWarrior-Challenge/blob/main/part2.ipynb\" target=\"_parent\"><img src=\"https://colab.research.google.com/assets/colab-badge.svg\" alt=\"Open In Colab\"/></a>"
      ]
    },
    {
      "cell_type": "markdown",
      "source": [
        "**Part Two of the Challenge - If Statement**"
      ],
      "metadata": {
        "id": "crKLh0uoJTGo"
      }
    },
    {
      "cell_type": "markdown",
      "source": [
        "12. Ask for two numbers. If\n",
        "the first one is larger\n",
        "than the second, display\n",
        "the second number first\n",
        "and then the first\n",
        "number, otherwise show\n",
        "the first number first and\n",
        "then the second."
      ],
      "metadata": {
        "id": "0RqcabOvJfNW"
      }
    },
    {
      "cell_type": "code",
      "source": [
        "num_1 = float(input(\"Enter your first number: \"))\n",
        "\n",
        "num_2 = float(input(\"Enter your second number: \"))\n",
        "\n",
        "if num_1 > num_2:\n",
        "  print((num_1))\n",
        "\n",
        "else:\n",
        "  print((num_2))"
      ],
      "metadata": {
        "colab": {
          "base_uri": "https://localhost:8080/"
        },
        "id": "wqUwOOhJJjHn",
        "outputId": "b5d8394b-df20-4502-c151-d0273b3f45e4"
      },
      "execution_count": 2,
      "outputs": [
        {
          "output_type": "stream",
          "name": "stdout",
          "text": [
            "Enter your first number: 40\n",
            "Enter your second number: 20\n",
            "40.0\n"
          ]
        }
      ]
    },
    {
      "cell_type": "markdown",
      "source": [
        "13. Ask the user to enter a\n",
        "number that is under\n",
        "\"20\". If they enter a\n",
        "number that is 20 or\n",
        "more, display the\n",
        "message “Too high”,\n",
        "otherwise display\n",
        "“Thank you”."
      ],
      "metadata": {
        "id": "FHKkvpdoKR1z"
      }
    },
    {
      "cell_type": "code",
      "source": [
        "num = int(input(\"Enter a number that is under 20: \"))\n",
        "\n",
        "if num > 20:\n",
        "  print(\"Too high\")\n",
        "\n",
        "else:\n",
        "  print(\"Thank you\")"
      ],
      "metadata": {
        "colab": {
          "base_uri": "https://localhost:8080/"
        },
        "id": "Ck6BYM7LKfcA",
        "outputId": "ee4159fb-a2d7-4800-c508-07b07f3bba34"
      },
      "execution_count": 4,
      "outputs": [
        {
          "output_type": "stream",
          "name": "stdout",
          "text": [
            "Enter a number that is under 20: 4\n",
            "Thank you\n"
          ]
        }
      ]
    },
    {
      "cell_type": "markdown",
      "source": [
        "14. Ask the user to enter a\n",
        "number between 10 and 20\n",
        "(inclusive). If they enter a\n",
        "number within this range,\n",
        "display the message “Thank\n",
        "you”, otherwise display the\n",
        "message “Incorrect\n",
        "answer”."
      ],
      "metadata": {
        "id": "KHtmZ3rGLCix"
      }
    },
    {
      "cell_type": "code",
      "source": [
        "num = int(input(\"Enter a number between 10 and 20: \"))\n",
        "\n",
        "if num >= 10 and num <= 20:\n",
        "  print(\"Thank you\")\n",
        "\n",
        "else:\n",
        "  print(\"Incorrect answer\")"
      ],
      "metadata": {
        "colab": {
          "base_uri": "https://localhost:8080/"
        },
        "id": "t9XZU2ksLGrA",
        "outputId": "7c78d9b7-9c33-4ff5-c140-9f50ce01de02"
      },
      "execution_count": 6,
      "outputs": [
        {
          "output_type": "stream",
          "name": "stdout",
          "text": [
            "Enter a number between 10 and 20: 14\n",
            "Thank you\n"
          ]
        }
      ]
    },
    {
      "cell_type": "markdown",
      "source": [
        "15. Ask the user to enter their favourite colour. If they enter “red”, “RED” or\n",
        "“Red” display the message “I like red too”, otherwise display the message\n",
        "“I don’t like [colour], I prefer red”."
      ],
      "metadata": {
        "id": "EKbJDRFaLoeu"
      }
    },
    {
      "cell_type": "code",
      "source": [
        "colour = str(input(\"Enter your favourite colour: \"))\n",
        "\n",
        "if colour == str(\"red\"):\n",
        "  print(\"I like red too\")\n",
        "\n",
        "elif colour == str(\"RED\"):\n",
        "  print(\"I like red too\")\n",
        "\n",
        "elif colour == (\"Red\"):\n",
        "  print(\"I like red too\")\n",
        "\n",
        "else:\n",
        "  print(\"I don't like\", colour, \"I prefer red\")"
      ],
      "metadata": {
        "colab": {
          "base_uri": "https://localhost:8080/"
        },
        "id": "U5G86ISDLuJO",
        "outputId": "8e1ed829-555c-4888-ca50-ed53b4b23768"
      },
      "execution_count": 16,
      "outputs": [
        {
          "output_type": "stream",
          "name": "stdout",
          "text": [
            "Enter your favourite colour: pink\n",
            "I don't like pink I prefer red\n"
          ]
        }
      ]
    },
    {
      "cell_type": "markdown",
      "source": [
        "16. Ask the user if it is raining and convert their answer to lower case\n",
        "so it doesn’t matter what case they type it in. If they answer “yes”,\n",
        "ask if it is windy. If they answer “yes” to this second question,\n",
        "display the answer “It is too windy for an umbrella”, otherwise\n",
        "display the message “Take an umbrella”. If they did not answer yes\n",
        "to the first question, display the answer “Enjoy your day”."
      ],
      "metadata": {
        "id": "_uqGhvxQOGMg"
      }
    },
    {
      "cell_type": "code",
      "source": [
        "ask_user = str(input(\"Is it raining? \"))\n",
        "\n",
        "ask_user = str.lower(ask_user)\n",
        "\n",
        "if ask_user == str(\"yes\"):\n",
        "  ask_second = str(input(\"Is it windy? \"))\n",
        "  ask_second = str.lower(ask_second)\n",
        "  if ask_second == str(\"yes\"):\n",
        "    print(\"It is too windy for an umbrella\")\n",
        "  else:\n",
        "    print(\"Take an umbrella\")\n",
        "\n",
        "else:\n",
        "  print(\"Enjoy your day\")"
      ],
      "metadata": {
        "colab": {
          "base_uri": "https://localhost:8080/"
        },
        "id": "BmhwwcnQOLvu",
        "outputId": "b431e6c3-25b2-4477-efe6-ec3954425cc9"
      },
      "execution_count": 20,
      "outputs": [
        {
          "output_type": "stream",
          "name": "stdout",
          "text": [
            "Is it raining? Yes\n",
            "Is it windy? NO\n",
            "Take an umbrella\n"
          ]
        }
      ]
    },
    {
      "cell_type": "markdown",
      "source": [
        "17. Ask the user’s age. If they\n",
        "are 18 or over, display the\n",
        "message “You can vote”, if\n",
        "they are aged 17, display the\n",
        "message “You can learn to\n",
        "drive”, if they are 16, display\n",
        "the message “You can buy a\n",
        "lottery ticket”, if they are\n",
        "under 16, display the\n",
        "message “You can go Trickor-\n",
        "Treating”."
      ],
      "metadata": {
        "id": "_7gbUL5yQOCB"
      }
    },
    {
      "cell_type": "code",
      "source": [
        "age_game = int(input(\"Enter your age: \"))\n",
        "\n",
        "if age_game >= 18:\n",
        "  print(\"You can vote\")\n",
        "\n",
        "elif age_game == 17:\n",
        "  print(\"You can learn to drive\")\n",
        "\n",
        "elif age_game == 16:\n",
        "  print(\"You can buy a lottery\")\n",
        "\n",
        "else:\n",
        "  print(\"You can go TrickorTreating\")"
      ],
      "metadata": {
        "colab": {
          "base_uri": "https://localhost:8080/"
        },
        "id": "EaT1RNY5Qfy_",
        "outputId": "5c86ce93-a424-4e0c-8cc4-2bee3cbe1a62"
      },
      "execution_count": 25,
      "outputs": [
        {
          "output_type": "stream",
          "name": "stdout",
          "text": [
            "Enter your age: 18\n",
            "You can vote\n"
          ]
        }
      ]
    },
    {
      "cell_type": "markdown",
      "source": [
        "18. Ask the user to enter a number. If it is under 10,\n",
        "display the message “Too low”, if their number is\n",
        "between 10 and 20, display “Correct”, otherwise\n",
        "display “Too high”."
      ],
      "metadata": {
        "id": "gavzjeAcRZHV"
      }
    },
    {
      "cell_type": "code",
      "source": [
        "num = float(input(\"Enter a number: \"))\n",
        "\n",
        "if num < 10:\n",
        "  print(\"Too low\")\n",
        "\n",
        "elif num >= 10 and num <=20:\n",
        "  print(\"Correct\")\n",
        "\n",
        "else:\n",
        "  print(\"Too high\")"
      ],
      "metadata": {
        "colab": {
          "base_uri": "https://localhost:8080/"
        },
        "id": "8pCeKwZRRdIV",
        "outputId": "ee39a7c4-a4bb-4de0-8cbd-4e2f64a27b22"
      },
      "execution_count": 30,
      "outputs": [
        {
          "output_type": "stream",
          "name": "stdout",
          "text": [
            "Enter a number: 20\n",
            "Correct\n"
          ]
        }
      ]
    },
    {
      "cell_type": "markdown",
      "source": [
        "19. Ask the user to enter 1, 2 or 3. If they enter a 1, display\n",
        "the message “Thank you”, if they enter a 2, display\n",
        "“Well done”, if they enter a 3, display “Correct”. If\n",
        "they enter anything else, display “Error message”."
      ],
      "metadata": {
        "id": "NqeFAqgnSGQC"
      }
    },
    {
      "cell_type": "code",
      "source": [
        "game = int(input(\"Enter a number: \"))\n",
        "\n",
        "if game == 1:\n",
        "  print(\"Thank you\")\n",
        "\n",
        "elif game == 2:\n",
        "  print(\"Well done\")\n",
        "\n",
        "elif game == 3:\n",
        "  print(\"Correct\")\n",
        "\n",
        "else:\n",
        "  print(\"Error message\")"
      ],
      "metadata": {
        "colab": {
          "base_uri": "https://localhost:8080/"
        },
        "id": "p7KyosjDSLXJ",
        "outputId": "20b1a4bd-a2c1-42a4-b488-0975c735ef07"
      },
      "execution_count": 34,
      "outputs": [
        {
          "output_type": "stream",
          "name": "stdout",
          "text": [
            "Enter a number: 1\n",
            "Thank you\n"
          ]
        }
      ]
    }
  ]
}